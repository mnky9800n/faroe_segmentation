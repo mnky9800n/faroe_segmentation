{
 "cells": [
  {
   "cell_type": "code",
   "execution_count": 1,
   "metadata": {},
   "outputs": [],
   "source": [
    "%matplotlib inline\n",
    "import pandas as pd\n",
    "import numpy as np\n",
    "from PIL import Image\n",
    "import matplotlib.pyplot as plt\n",
    "from skimage.filters import meijering, sato, frangi, hessian\n",
    "from skimage.measure import label, regionprops\n",
    "from sklearn import decomposition\n",
    "from scipy.ndimage import gaussian_filter\n",
    "from scipy.signal import find_peaks\n",
    "import helpers"
   ]
  },
  {
   "cell_type": "code",
   "execution_count": 2,
   "metadata": {},
   "outputs": [],
   "source": [
    "filename = 'benoitdata/F20_10_b/6um_jamtveit_att_pag-1.99_3.12_00030.tif'\n",
    "im = Image.open(filename)\n",
    "imarr = np.array(im)"
   ]
  },
  {
   "cell_type": "code",
   "execution_count": 3,
   "metadata": {},
   "outputs": [],
   "source": [
    "imarr_maskradius = helpers.remove_data_based_on_radius(imarr, mask_value=np.nan)"
   ]
  },
  {
   "cell_type": "code",
   "execution_count": 7,
   "metadata": {},
   "outputs": [
    {
     "data": {
      "text/plain": [
       "1912.2770621583165"
      ]
     },
     "execution_count": 7,
     "metadata": {},
     "output_type": "execute_result"
    }
   ],
   "source": [
    "imarr_maskradius[~np.isnan(imarr_maskradius)].flatten().std()"
   ]
  },
  {
   "cell_type": "code",
   "execution_count": null,
   "metadata": {},
   "outputs": [],
   "source": [
    "imarr_blur = gaussian_filter(imarr_maskradius, sigma=1912)"
   ]
  },
  {
   "cell_type": "code",
   "execution_count": null,
   "metadata": {},
   "outputs": [],
   "source": [
    "plt.imshow(imarr_blur)"
   ]
  },
  {
   "cell_type": "code",
   "execution_count": null,
   "metadata": {},
   "outputs": [],
   "source": [
    "fig, ax = plt.subplots(figsize=(10, 6))\n",
    "\n",
    "# x = np.log10(e[:-1])\n",
    "x = e[:-1]\n",
    "\n",
    "ax.plot(x, h)\n",
    "ax.set_yscale('log')\n",
    "ax.set_xlabel('log(CT value)', fontsize=15)\n",
    "# ax.set_ylim(1e1, 1e8)\n",
    "\n",
    "ax.plot(x[peaks], h[peaks], marker='^', markersize=10, linewidth=0, color='red')\n",
    "\n",
    "ax.fill_between([means[0]-stds, means[0]+stds], 1e0, 5e5, color='darkorange', alpha=0.5)\n",
    "\n",
    "ax.fill_between([means[1]-stds, means[1]+stds], 1e0, 5e5, color='green', alpha=0.5)\n",
    "\n",
    "ax.text(s='peak 1', x=means[0]-1000, y=1e1)\n",
    "ax.text(s='peak 2', x=means[1]-1000, y=1e1)"
   ]
  },
  {
   "cell_type": "code",
   "execution_count": null,
   "metadata": {},
   "outputs": [],
   "source": []
  }
 ],
 "metadata": {
  "kernelspec": {
   "display_name": "Python 3",
   "language": "python",
   "name": "python3"
  },
  "language_info": {
   "codemirror_mode": {
    "name": "ipython",
    "version": 3
   },
   "file_extension": ".py",
   "mimetype": "text/x-python",
   "name": "python",
   "nbconvert_exporter": "python",
   "pygments_lexer": "ipython3",
   "version": "3.7.10"
  }
 },
 "nbformat": 4,
 "nbformat_minor": 4
}
