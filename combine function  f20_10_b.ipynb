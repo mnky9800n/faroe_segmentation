{
 "cells": [
  {
   "cell_type": "code",
   "execution_count": 1,
   "metadata": {},
   "outputs": [],
   "source": [
    "%matplotlib inline\n",
    "import cv2\n",
    "import numpy as np\n",
    "import matplotlib.pyplot as plt\n",
    "from skimage import exposure\n",
    "from scipy.ndimage import gaussian_filter\n",
    "\n",
    "import helpers\n",
    "\n",
    "import pandas as pd\n",
    "# import numpy as np\n",
    "from PIL import Image\n",
    "import PIL\n",
    "import matplotlib as mpl\n",
    "\n",
    "from skimage import exposure\n",
    "from scipy import ndimage\n",
    "from scipy.ndimage import gaussian_filter\n",
    "from scipy.signal import find_peaks\n",
    "from scipy.signal import argrelextrema\n",
    "\n",
    "from datetime import datetime\n",
    "\n",
    "\n",
    "from multiprocessing import Pool\n"
   ]
  },
  {
   "cell_type": "code",
   "execution_count": 2,
   "metadata": {},
   "outputs": [],
   "source": [
    "def label_pipeline(img):\n",
    "    \"\"\"\n",
    "    Applies functions for labeling image\n",
    "    \"\"\"\n",
    "    # fix brightness and shadowing issues\n",
    "    # https://stackoverflow.com/questions/44047819/increase-image-brightness-without-overflow/44054699#44054699\n",
    "\n",
    "    norm_img = helpers.fix_brightness(img)\n",
    "    \n",
    "    # apply histogram equalization for vesicle picking\n",
    "    # https://scikit-image.org/docs/dev/auto_examples/color_exposure/plot_equalize.html#sphx-glr-auto-examples-color-exposure-plot-equalize-py\n",
    "    imarr_hist = exposure.equalize_hist(norm_img)\n",
    "    \n",
    "    # remove data from outside of core\n",
    "    # imarr_maskradius = helpers.remove_data_based_on_radius(imarr, mask_value=np.nan)\n",
    "    imarr_hist = helpers.remove_data_based_on_radius(imarr_hist, mask_value=np.nan)\n",
    "\n",
    "    sigma = 1\n",
    "    blurs = gaussian_filter(imarr_hist, sigma=sigma)\n",
    "\n",
    "    # calculate peaks\n",
    "    peaks_etc = helpers.get_peaks_means_stds(blurs, height=1e3, width=4)\n",
    "\n",
    "    # label peaks\n",
    "    peak_labled = helpers.label_by_peaks(blurs, peaks_etc)\n",
    "\n",
    "    \n",
    "    # TODO : function this out\n",
    "    # find local minima in histogram to separate vesicles from noise\n",
    "    z = np.copy(peak_labled)\n",
    "    z[z == 1] = 0\n",
    "    # z[z == 2] = 3\n",
    "    # z[z == 3] = 0\n",
    "\n",
    "    z = gaussian_filter(z, sigma=4)\n",
    "\n",
    "    h, e = np.histogram(z.flatten(), bins=np.linspace(0, 2, 201))\n",
    "    try:\n",
    "        splitter = e[argrelextrema(h, np.less, order=10)][0]\n",
    "    except:\n",
    "#         splitter = e[argrelextrema(h, np.greater, order=10)][0]\n",
    "        # set splitter at middle of distribution if we cannot\n",
    "        # smartly find a local minimum to split on \n",
    "#         splitter = 1\n",
    "        splitter = 1.25\n",
    "    \n",
    "    # label vesicles\n",
    "    z[z >= splitter] = 2\n",
    "    z[z < splitter] = 0\n",
    "\n",
    "    # calculate global mean and rescale values\n",
    "\n",
    "    zim = helpers.zscore(helpers.remove_data_based_on_radius(img, np.nan))\n",
    "\n",
    "    # filter out all data that is not fracture\n",
    "\n",
    "    zim_remove = zim.copy()\n",
    "    zim_remove[zim_remove > -1.75] = 0\n",
    "    # zim_remove[zim_remove > -4] = 0\n",
    "\n",
    "    x1, y1 = zim_remove.nonzero()\n",
    "\n",
    "    zeros = np.zeros_like(zim_remove)\n",
    "\n",
    "    # label fractures\n",
    "    zeros[x1, y1] = 1\n",
    "\n",
    "    # replace all data as either 1 or 0 for fracture identification\n",
    "\n",
    "    # footprint condition says value should be greater\n",
    "    # in all directions\n",
    "    footprint1 = np.array(\n",
    "        [[1, 1, 1]\n",
    "        ,[1, 0, 1]\n",
    "        ,[1, 1, 1]]\n",
    "    )\n",
    "\n",
    "    footprint2 = np.array(\n",
    "        [[1, 1, 1, 1, 1]\n",
    "        ,[1, 1, 1, 1, 1]\n",
    "        ,[1, 1, 0, 1, 1]\n",
    "        ,[1, 1, 1, 1, 1]\n",
    "        ,[1, 1, 1, 1, 1]]\n",
    "    )\n",
    "\n",
    "    # creates a window based on the given footprint\n",
    "    # to compare neighbors and replace values on \n",
    "    # nearest maximum value\n",
    "    # https://docs.scipy.org/doc/scipy/reference/generated/scipy.ndimage.maximum_filter.html\n",
    "    newim = ndimage.median_filter(zeros, footprint=footprint1, mode='constant')\n",
    "#     newim = ndimage.median_filter(zeros, footprint=footprint2, mode='constant')\n",
    "    newim = ndimage.maximum_filter(newim, footprint=footprint2, mode='constant')\n",
    "\n",
    "    imlabeled = helpers.remove_data_based_on_radius(newim, mask_value=np.nan)\n",
    "\n",
    "    # create new labeled image\n",
    "    zeros = np.zeros_like(imlabeled)\n",
    "\n",
    "    # label vesicles\n",
    "    ves_x, ves_y = z.nonzero()\n",
    "    zeros[ves_x, ves_y] = 1\n",
    "\n",
    "    # label fractures\n",
    "    frac_x, frac_y = imlabeled.nonzero()\n",
    "    zeros[frac_x, frac_y] = 2\n",
    "\n",
    "    zeros = helpers.remove_data_based_on_radius(zeros, np.nan)\n",
    "    \n",
    "    return zeros"
   ]
  },
  {
   "cell_type": "code",
   "execution_count": 3,
   "metadata": {
    "scrolled": true
   },
   "outputs": [],
   "source": [
    "filenames = !ls benoitdata/F20_10_b/"
   ]
  },
  {
   "cell_type": "code",
   "execution_count": 4,
   "metadata": {},
   "outputs": [],
   "source": [
    "def multi_figures(file):\n",
    "    img = cv2.imread('benoitdata/F20_10_b/'+file,0)\n",
    "    i = label_pipeline(img)\n",
    "#     np.savetxt(X=i, fname='labeled/'+file+'_labeled.dat', delimiter=',')\n",
    "    np.save(arr=i, file='labeled/'+file+'_labeled.npy')\n",
    "    fig, ax = plt.subplots(1, 2, figsize=(20, 10))\n",
    "\n",
    "    ax[0].imshow(exposure.equalize_hist(img), cmap='plasma')\n",
    "    ax[1].imshow(i, cmap='plasma')\n",
    "    fig.tight_layout()\n",
    "    fig.savefig('labeled/'+file+'_labeled.png', dpi=300, bbox_inches='tight')\n",
    "    plt.close()"
   ]
  },
  {
   "cell_type": "code",
   "execution_count": 5,
   "metadata": {},
   "outputs": [
    {
     "name": "stdout",
     "output_type": "stream",
     "text": [
      "started at  2021-05-09 12:06:50.637739\n",
      "this took 0:08:39.983649\n"
     ]
    }
   ],
   "source": [
    "pool = Pool()\n",
    "\n",
    "start = datetime.now()\n",
    "print('started at ', start)\n",
    "\n",
    "pool.map(multi_figures, filenames)\n",
    "pool.close()\n",
    "\n",
    "print('this took', datetime.now()-start)"
   ]
  },
  {
   "cell_type": "code",
   "execution_count": 6,
   "metadata": {},
   "outputs": [],
   "source": [
    "pool.close()"
   ]
  },
  {
   "cell_type": "code",
   "execution_count": 7,
   "metadata": {
    "scrolled": true
   },
   "outputs": [],
   "source": [
    "# start = datetime.now()\n",
    "# print('started at ', start)\n",
    "\n",
    "# for file in filenames:\n",
    "# #     file = 'benoitdata/F20_10_b/'+file\n",
    "#     print(file)\n",
    "# #     file = 'benoitdata/F20_10_b/6um_jamtveit_att_pag-1.99_3.12_00030.tif'\n",
    "\n",
    "#     img = cv2.imread('benoitdata/F20_10_b/'+file,0)\n",
    "#     i = label_pipeline(img)\n",
    "#     np.savetxt(X=i, fname='labeled/'+file+'_labeled.dat', delimiter=',')\n",
    "# #     np.savetxt(X=i, fname='labeled/6um_jamtveit_att_pag-1.99_3.12_00030.tif_labeled.dat', delimiter=',')\n",
    "    \n",
    "#     fig, ax = plt.subplots(1, 2, figsize=(20, 10))\n",
    "\n",
    "#     ax[0].imshow(exposure.equalize_hist(img), cmap='plasma')\n",
    "#     ax[1].imshow(i, cmap='plasma')\n",
    "#     fig.tight_layout()\n",
    "#     fig.savefig('labeled/'+file+'_labeled.png', dpi=300, bbox_inches='tight')\n",
    "#     plt.close()\n",
    "# #     fig.savefig('labeled/6um_jamtveit_att_pag-1.99_3.12_00030.tif_labeled.png', dpi=300, bbox_inches='tight')\n",
    "# #     break\n",
    "\n",
    "# print('this took', datetime.now()-start)"
   ]
  },
  {
   "cell_type": "code",
   "execution_count": 8,
   "metadata": {},
   "outputs": [],
   "source": [
    "# TODO:\n",
    "# 1. multiprocess this\n",
    "# 2. figure out splitter function\n",
    "# 3. print out more figures to not make it so black box\n",
    "# 4. go through all the figures created to see how good its doing"
   ]
  },
  {
   "cell_type": "code",
   "execution_count": 9,
   "metadata": {},
   "outputs": [],
   "source": [
    "# fig, ax = plt.subplots(figsize=(15, 15))\n",
    "\n",
    "# ax.imshow(exposure.equalize_hist(img), cmap='Greys', alpha=0.5)\n",
    "# # ax.imshow(i, alpha=0.5, cmap='plasma')"
   ]
  },
  {
   "cell_type": "code",
   "execution_count": 10,
   "metadata": {},
   "outputs": [],
   "source": [
    "# plt.imshow(i)"
   ]
  },
  {
   "cell_type": "code",
   "execution_count": 11,
   "metadata": {},
   "outputs": [],
   "source": [
    "# plt.imshow(img)"
   ]
  },
  {
   "cell_type": "code",
   "execution_count": 12,
   "metadata": {},
   "outputs": [],
   "source": [
    "# # filename = 'benoitdata/F20_10_b/6um_jamtveit_att_pag-1.99_3.12_00030.tif'\n",
    "# filename = 'benoitdata/F20_10_b/6um_jamtveit_att_pag-1.99_3.12_00005.tif'\n",
    "\n",
    "# img = cv2.imread(filename,0)\n",
    "# # img = cv2.imread(file,0)\n"
   ]
  },
  {
   "cell_type": "code",
   "execution_count": 13,
   "metadata": {},
   "outputs": [],
   "source": [
    "# img"
   ]
  },
  {
   "cell_type": "code",
   "execution_count": 14,
   "metadata": {},
   "outputs": [],
   "source": [
    "# fig, ax = plt.subplots(1, 2, figsize=(20, 10))\n",
    "\n",
    "# ax[0].imshow(exposure.equalize_hist(img), cmap='plasma')\n",
    "# ax[1].imshow(zeros, cmap='plasma')\n",
    "# fig.tight_layout()"
   ]
  },
  {
   "cell_type": "code",
   "execution_count": 15,
   "metadata": {},
   "outputs": [],
   "source": [
    "# zeros = label_pipeline(img)"
   ]
  },
  {
   "cell_type": "code",
   "execution_count": 16,
   "metadata": {},
   "outputs": [],
   "source": [
    "# fig, ax = plt.subplots(figsize=(20, 20))\n",
    "\n",
    "# ax.imshow(zeros, cmap='inferno')"
   ]
  }
 ],
 "metadata": {
  "kernelspec": {
   "display_name": "Python 3",
   "language": "python",
   "name": "python3"
  },
  "language_info": {
   "codemirror_mode": {
    "name": "ipython",
    "version": 3
   },
   "file_extension": ".py",
   "mimetype": "text/x-python",
   "name": "python",
   "nbconvert_exporter": "python",
   "pygments_lexer": "ipython3",
   "version": "3.7.10"
  }
 },
 "nbformat": 4,
 "nbformat_minor": 4
}
