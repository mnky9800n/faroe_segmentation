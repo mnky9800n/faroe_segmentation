{
 "cells": [
  {
   "cell_type": "code",
   "execution_count": 1,
   "metadata": {},
   "outputs": [],
   "source": [
    "%matplotlib inline\n",
    "import cv2\n",
    "import numpy as np\n",
    "import matplotlib.pyplot as plt\n",
    "# from skimage import exposure\n",
    "# from scipy.ndimage import gaussian_filter\n",
    "\n",
    "import helpers\n",
    "\n",
    "import pandas as pd\n",
    "# import numpy as np\n",
    "from PIL import Image\n",
    "import PIL\n",
    "import matplotlib as mpl\n",
    "\n",
    "from skimage import exposure\n",
    "from scipy import ndimage\n",
    "from scipy.ndimage import gaussian_filter\n",
    "from scipy.signal import find_peaks\n",
    "from scipy.signal import argrelextrema\n",
    "\n",
    "from datetime import datetime\n",
    "\n",
    "\n",
    "from multiprocessing import Pool\n"
   ]
  },
  {
   "cell_type": "code",
   "execution_count": 3,
   "metadata": {
    "scrolled": true
   },
   "outputs": [],
   "source": [
    "filenames = !ls benoitdata/F20-14A/"
   ]
  },
  {
   "cell_type": "code",
   "execution_count": 4,
   "metadata": {},
   "outputs": [],
   "source": [
    "def multi_figures(file):\n",
    "    img = cv2.imread('benoitdata/F20-14A/'+file,0)\n",
    "#     i = label_pipeline(img)\n",
    "    i = helpers.label_pipeline(img)\n",
    "#     np.save(arr=i, file='labeled/F20_14/'+file+'_labeled.npy')\n",
    "    np.save(arr=i, file='/media/sda/data/labeled/F20_14/'+file+'_labeled.npy')\n",
    "    fig, ax = plt.subplots(1, 2, figsize=(20, 10))\n",
    "\n",
    "    ax[0].imshow(exposure.equalize_hist(img), cmap='plasma')\n",
    "    ax[1].imshow(i, cmap='plasma')\n",
    "    fig.tight_layout()\n",
    "    fig.savefig('/media/sda/data/labeled/F20_14/'+file+'_labeled.png', dpi=300, bbox_inches='tight')\n",
    "    plt.close()\n",
    "    del img, i, fig, ax"
   ]
  },
  {
   "cell_type": "code",
   "execution_count": null,
   "metadata": {},
   "outputs": [
    {
     "name": "stdout",
     "output_type": "stream",
     "text": [
      "started at  2021-05-09 17:02:35.152568\n"
     ]
    }
   ],
   "source": [
    "pool = Pool(maxtasksperchild=10)\n",
    "\n",
    "start = datetime.now()\n",
    "print('started at ', start)\n",
    "\n",
    "pool.map(multi_figures, filenames)\n",
    "pool.close()\n",
    "\n",
    "print('this took', datetime.now()-start)"
   ]
  },
  {
   "cell_type": "code",
   "execution_count": null,
   "metadata": {},
   "outputs": [],
   "source": [
    "pool.close()"
   ]
  },
  {
   "cell_type": "code",
   "execution_count": null,
   "metadata": {
    "scrolled": true
   },
   "outputs": [],
   "source": [
    "# start = datetime.now()\n",
    "# print('started at ', start)\n",
    "\n",
    "# for file in filenames:\n",
    "# #     file = 'benoitdata/F20_10_b/'+file\n",
    "#     print(file)\n",
    "# #     file = 'benoitdata/F20_10_b/6um_jamtveit_att_pag-1.99_3.12_00030.tif'\n",
    "\n",
    "#     img = cv2.imread('benoitdata/F20_10_b/'+file,0)\n",
    "#     i = label_pipeline(img)\n",
    "#     np.savetxt(X=i, fname='labeled/'+file+'_labeled.dat', delimiter=',')\n",
    "# #     np.savetxt(X=i, fname='labeled/6um_jamtveit_att_pag-1.99_3.12_00030.tif_labeled.dat', delimiter=',')\n",
    "    \n",
    "#     fig, ax = plt.subplots(1, 2, figsize=(20, 10))\n",
    "\n",
    "#     ax[0].imshow(exposure.equalize_hist(img), cmap='plasma')\n",
    "#     ax[1].imshow(i, cmap='plasma')\n",
    "#     fig.tight_layout()\n",
    "#     fig.savefig('labeled/'+file+'_labeled.png', dpi=300, bbox_inches='tight')\n",
    "#     plt.close()\n",
    "# #     fig.savefig('labeled/6um_jamtveit_att_pag-1.99_3.12_00030.tif_labeled.png', dpi=300, bbox_inches='tight')\n",
    "# #     break\n",
    "\n",
    "# print('this took', datetime.now()-start)"
   ]
  },
  {
   "cell_type": "code",
   "execution_count": null,
   "metadata": {},
   "outputs": [],
   "source": [
    "# TODO:\n",
    "# 1. multiprocess this\n",
    "# 2. figure out splitter function\n",
    "# 3. print out more figures to not make it so black box\n",
    "# 4. go through all the figures created to see how good its doing"
   ]
  },
  {
   "cell_type": "code",
   "execution_count": null,
   "metadata": {},
   "outputs": [],
   "source": [
    "# fig, ax = plt.subplots(figsize=(15, 15))\n",
    "\n",
    "# ax.imshow(exposure.equalize_hist(img), cmap='Greys', alpha=0.5)\n",
    "# # ax.imshow(i, alpha=0.5, cmap='plasma')"
   ]
  },
  {
   "cell_type": "code",
   "execution_count": null,
   "metadata": {},
   "outputs": [],
   "source": [
    "# plt.imshow(i)"
   ]
  },
  {
   "cell_type": "code",
   "execution_count": null,
   "metadata": {},
   "outputs": [],
   "source": [
    "# plt.imshow(img)"
   ]
  },
  {
   "cell_type": "code",
   "execution_count": null,
   "metadata": {},
   "outputs": [],
   "source": [
    "# # filename = 'benoitdata/F20_10_b/6um_jamtveit_att_pag-1.99_3.12_00030.tif'\n",
    "# filename = 'benoitdata/F20_10_b/6um_jamtveit_att_pag-1.99_3.12_00005.tif'\n",
    "\n",
    "# img = cv2.imread(filename,0)\n",
    "# # img = cv2.imread(file,0)\n"
   ]
  },
  {
   "cell_type": "code",
   "execution_count": null,
   "metadata": {},
   "outputs": [],
   "source": [
    "# img"
   ]
  },
  {
   "cell_type": "code",
   "execution_count": null,
   "metadata": {},
   "outputs": [],
   "source": [
    "# fig, ax = plt.subplots(1, 2, figsize=(20, 10))\n",
    "\n",
    "# ax[0].imshow(exposure.equalize_hist(img), cmap='plasma')\n",
    "# ax[1].imshow(zeros, cmap='plasma')\n",
    "# fig.tight_layout()"
   ]
  },
  {
   "cell_type": "code",
   "execution_count": null,
   "metadata": {},
   "outputs": [],
   "source": [
    "# zeros = label_pipeline(img)"
   ]
  },
  {
   "cell_type": "code",
   "execution_count": null,
   "metadata": {},
   "outputs": [],
   "source": [
    "# fig, ax = plt.subplots(figsize=(20, 20))\n",
    "\n",
    "# ax.imshow(zeros, cmap='inferno')"
   ]
  }
 ],
 "metadata": {
  "kernelspec": {
   "display_name": "Python 3",
   "language": "python",
   "name": "python3"
  },
  "language_info": {
   "codemirror_mode": {
    "name": "ipython",
    "version": 3
   },
   "file_extension": ".py",
   "mimetype": "text/x-python",
   "name": "python",
   "nbconvert_exporter": "python",
   "pygments_lexer": "ipython3",
   "version": "3.7.10"
  }
 },
 "nbformat": 4,
 "nbformat_minor": 4
}
